{
  "nbformat": 4,
  "nbformat_minor": 0,
  "metadata": {
    "colab": {
      "name": "tugas3MOSI_1301184138",
      "provenance": [],
      "collapsed_sections": [],
      "authorship_tag": "ABX9TyNK5hEuiF5vAZTpmuv4uoLn",
      "include_colab_link": true
    },
    "kernelspec": {
      "name": "python3",
      "display_name": "Python 3"
    }
  },
  "cells": [
    {
      "cell_type": "markdown",
      "metadata": {
        "id": "view-in-github",
        "colab_type": "text"
      },
      "source": [
        "<a href=\"https://colab.research.google.com/github/rifqi-web/Tugas3mosi_1301184138/blob/master/tugas3MOSI_1301184138.ipynb\" target=\"_parent\"><img src=\"https://colab.research.google.com/assets/colab-badge.svg\" alt=\"Open In Colab\"/></a>"
      ]
    },
    {
      "cell_type": "code",
      "metadata": {
        "id": "FLI3sJPVjYnv",
        "colab_type": "code",
        "outputId": "c394c476-ec1a-4b9f-bbd9-359838a783e8",
        "colab": {
          "base_uri": "https://localhost:8080/",
          "height": 296
        }
      },
      "source": [
        "import numpy as np\n",
        "import math\n",
        "\n",
        "import matplotlib.pyplot as plt\n",
        "\n",
        "def sample(i, N):\n",
        "    while i < 1000:\n",
        "        N.append(i)\n",
        "        i = i + 50\n",
        "        \n",
        "def linear(X):\n",
        "    return X\n",
        "\n",
        "X,Y = [],[]\n",
        "\n",
        "N = [15,50,100,115,150,200]\n",
        "sample(N[-1],N)\n",
        "\n",
        "def monte_carlo(a,b,func=linear):\n",
        "    for n in N:\n",
        "        x = np.random.uniform(a,b,n)\n",
        "        integral = (b-1)*np.mean(func(x))\n",
        "        X.append(n)\n",
        "        Y.append(integral)\n",
        "        n = n + 5\n",
        "        \n",
        "monte_carlo(1,3)\n",
        "\n",
        "M = [mean for M in range(len(X))]\n",
        "mean = np.mean(Y)\n",
        "\n",
        "\n",
        "plt.plot(X,Y,'*-g')\n",
        "plt.plot(X,M,'b')\n",
        "plt.xlabel('ukuran sampel, N')\n",
        "plt.ylabel('nilai integral')\n",
        "plt.plot()"
      ],
      "execution_count": 0,
      "outputs": [
        {
          "output_type": "execute_result",
          "data": {
            "text/plain": [
              "[]"
            ]
          },
          "metadata": {
            "tags": []
          },
          "execution_count": 10
        },
        {
          "output_type": "display_data",
          "data": {
            "image/png": "[encoded data removed]",
            "text/plain": [
              "<Figure size 432x288 with 1 Axes>"
            ]
          },
          "metadata": {
            "tags": []
          }
        }
      ]
    },
    {
      "cell_type": "code",
      "metadata": {
        "id": "h7eGUYVQnk5f",
        "colab_type": "code",
        "colab": {}
      },
      "source": [
        ""
      ],
      "execution_count": 0,
      "outputs": []
    }
  ]
}